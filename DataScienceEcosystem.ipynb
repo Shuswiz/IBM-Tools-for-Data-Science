{
 "cells": [
  {
   "cell_type": "markdown",
   "id": "85a732cd-feb9-40f4-b31a-dca795fb77b0",
   "metadata": {},
   "source": [
    "# Data Science Tools and Ecosystem"
   ]
  },
  {
   "cell_type": "markdown",
   "id": "47452fca-02ba-49da-b7a0-e35c1b9c120f",
   "metadata": {},
   "source": [
    "In this notebook, Data Science Tools and Ecosystem are summarized."
   ]
  },
  {
   "cell_type": "markdown",
   "id": "b4cc5c5f-e588-471d-8e5a-7a05a66d0829",
   "metadata": {},
   "source": [
    "**Objective:**\n",
    "- List Popular Languages used by Data Scientists\n",
    "- List Common Libraries used by Data Scientists\n",
    "- List some Popular Data Science Tools\n",
    "- Evaluating Arithmetic Expressions using Python"
   ]
  },
  {
   "cell_type": "markdown",
   "id": "46b27a43-b799-4aef-b3d8-09d16db69415",
   "metadata": {},
   "source": [
    "Some of the popular languages that Data Scientists use are:\n",
    "1. Python\n",
    "2. R\n",
    "3. Julia"
   ]
  },
  {
   "cell_type": "markdown",
   "id": "745172ff-0404-40d4-8a47-dfe90ed7bafc",
   "metadata": {},
   "source": [
    "Some of the commonly used libraries used by Data Scientists include:\n",
    "1. Pandas\n",
    "2. ggPlot\n",
    "3. Numpy"
   ]
  },
  {
   "cell_type": "markdown",
   "id": "27a8ce9f-15f2-4c90-8423-2b1802f1e068",
   "metadata": {},
   "source": [
    "| Data Science Tools|\n",
    "| ----------------- |\n",
    "| Github |\n",
    "| Jupyter Notebook |\n",
    "| RStudio |"
   ]
  },
  {
   "cell_type": "markdown",
   "id": "21ce6e6f-b656-4f9c-b083-aba836591d40",
   "metadata": {},
   "source": [
    "### Below are a few examples of evaluating arithmetic expressions in Python."
   ]
  },
  {
   "cell_type": "code",
   "execution_count": 1,
   "id": "2353681f-63c9-459b-bb3e-b32b4e33fc53",
   "metadata": {
    "tags": []
   },
   "outputs": [
    {
     "data": {
      "text/plain": [
       "17"
      ]
     },
     "execution_count": 1,
     "metadata": {},
     "output_type": "execute_result"
    }
   ],
   "source": [
    "# This a simple arithmetic expression to mutiply then add integers\n",
    "(3*4)+5"
   ]
  },
  {
   "cell_type": "code",
   "execution_count": 2,
   "id": "c1aa3e78-d0e2-496e-b69e-df227516a4a9",
   "metadata": {
    "tags": []
   },
   "outputs": [
    {
     "name": "stdout",
     "output_type": "stream",
     "text": [
      "3.3333333333333335\n"
     ]
    }
   ],
   "source": [
    "# This will convert 200 minutes to hours by diving by 60\n",
    "time_min = 200\n",
    "time_hr = time_min/60\n",
    "print(time_hr)"
   ]
  },
  {
   "cell_type": "markdown",
   "id": "2f139c26-a957-4cfd-aad7-ce6d3d244124",
   "metadata": {},
   "source": [
    "## Author\n",
    "Shuswabhit Shadangi"
   ]
  }
 ],
 "metadata": {
  "kernelspec": {
   "display_name": "Python",
   "language": "python",
   "name": "conda-env-python-py"
  },
  "language_info": {
   "codemirror_mode": {
    "name": "ipython",
    "version": 3
   },
   "file_extension": ".py",
   "mimetype": "text/x-python",
   "name": "python",
   "nbconvert_exporter": "python",
   "pygments_lexer": "ipython3",
   "version": "3.7.12"
  }
 },
 "nbformat": 4,
 "nbformat_minor": 5
}
